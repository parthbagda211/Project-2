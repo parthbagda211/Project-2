{
 "cells": [
  {
   "cell_type": "code",
   "execution_count": 1,
   "metadata": {
    "_cell_guid": "b1076dfc-b9ad-4769-8c92-a6c4dae69d19",
    "_uuid": "8f2839f25d086af736a60e9eeb907d3b93b6e0e5",
    "execution": {
     "iopub.execute_input": "2022-03-30T08:37:19.687300Z",
     "iopub.status.busy": "2022-03-30T08:37:19.686692Z",
     "iopub.status.idle": "2022-03-30T08:37:19.728077Z",
     "shell.execute_reply": "2022-03-30T08:37:19.727318Z",
     "shell.execute_reply.started": "2022-03-30T08:37:19.687191Z"
    }
   },
   "outputs": [],
   "source": [
    "# This Python 3 environment comes with many helpful analytics libraries installed\n",
    "# It is defined by the kaggle/python Docker image: https://github.com/kaggle/docker-python\n",
    "# For example, here's several helpful packages to load\n",
    "\n",
    "import numpy as np # linear algebra\n",
    "import pandas as pd # data processing, CSV file I/O (e.g. pd.read_csv)\n",
    "\n",
    "# Input data files are available in the read-only \"../input/\" directory\n",
    "# For example, running this (by clicking run or pressing Shift+Enter) will list all files under the input directory\n",
    "\n",
    "import os\n",
    "for dirname, _, filenames in os.walk('/kaggle/input'):\n",
    "    for filename in filenames:\n",
    "        print(os.path.join(dirname, filename))\n",
    "\n",
    "# You can write up to 20GB to the current directory (/kaggle/working/) that gets preserved as output when you create a version using \"Save & Run All\" \n",
    "# You can also write temporary files to /kaggle/temp/, but they won't be saved outside of the current session"
   ]
  },
  {
   "cell_type": "markdown",
   "metadata": {},
   "source": [
    "# import libraries"
   ]
  },
  {
   "cell_type": "code",
   "execution_count": 4,
   "metadata": {
    "execution": {
     "iopub.execute_input": "2022-03-30T08:48:04.207004Z",
     "iopub.status.busy": "2022-03-30T08:48:04.206705Z",
     "iopub.status.idle": "2022-03-30T08:48:04.985393Z",
     "shell.execute_reply": "2022-03-30T08:48:04.984127Z",
     "shell.execute_reply.started": "2022-03-30T08:48:04.206974Z"
    }
   },
   "outputs": [],
   "source": [
    "import matplotlib.pyplot as plt\n",
    "import seaborn as sns\n",
    "import numpy as np\n",
    "import pandas as pd\n",
    "\n",
    "from wordcloud import WordCloud\n",
    "import torch\n",
    "from sklearn.model_selection import train_test_split\n",
    "from sklearn.metrics import confusion_matrix,classification_report,accuracy_score\n",
    "from sklearn.preprocessing import LabelEncoder\n",
    "\n",
    "\n",
    "from tensorflow.keras.utils import to_categorical\n",
    "from tensorflow.keras.preprocessing.text import Tokenizer\n",
    "from tensorflow.keras.preprocessing.sequence import pad_sequences\n",
    "\n",
    "\n",
    "from tensorflow.keras.models import Sequential\n",
    "from tensorflow.keras.callbacks import EarlyStopping\n",
    "from tensorflow.keras.layers import Dense,LSTM,Embedding,Bidirectional,Dropout\n",
    "\n",
    "import re\n",
    "import nltk\n",
    "from nltk.corpus import stopwords\n",
    "from nltk.stem import PorterStemmer\n",
    "from transformers import BertTokenizer,BertConfig,AdamW,BertForSequenceClassification,get_linear_schedule_with_warmup"
   ]
  },
  {
   "cell_type": "markdown",
   "metadata": {},
   "source": [
    "# import datasets"
   ]
  },
  {
   "cell_type": "code",
   "execution_count": 20,
   "metadata": {
    "execution": {
     "iopub.execute_input": "2022-03-30T08:55:03.816331Z",
     "iopub.status.busy": "2022-03-30T08:55:03.815951Z",
     "iopub.status.idle": "2022-03-30T08:55:03.887158Z",
     "shell.execute_reply": "2022-03-30T08:55:03.885857Z",
     "shell.execute_reply.started": "2022-03-30T08:55:03.816296Z"
    }
   },
   "outputs": [],
   "source": [
    "train_data = pd.read_csv(\"../input/emotions-dataset-for-nlp/train.txt\",header=None,sep=\";\",names=[\"comment\",\"emotion\"],encoding=\"utf-8\")\n",
    "test_data = pd.read_csv(\"../input/emotions-dataset-for-nlp/test.txt\",header=None,sep=\";\",names=[\"comment\",\"emotion\"],encoding=\"utf-8\")\n",
    "validate_data = pd.read_csv(\"../input/emotions-dataset-for-nlp/val.txt\",header=None,sep=\";\",names=[\"comment\",\"emotion\"],encoding=\"utf-8\")"
   ]
  },
  {
   "cell_type": "markdown",
   "metadata": {},
   "source": [
    "# data processing"
   ]
  },
  {
   "cell_type": "code",
   "execution_count": 22,
   "metadata": {
    "execution": {
     "iopub.execute_input": "2022-03-30T08:55:38.974329Z",
     "iopub.status.busy": "2022-03-30T08:55:38.974043Z",
     "iopub.status.idle": "2022-03-30T08:55:38.980442Z",
     "shell.execute_reply": "2022-03-30T08:55:38.979811Z",
     "shell.execute_reply.started": "2022-03-30T08:55:38.974300Z"
    }
   },
   "outputs": [],
   "source": [
    "train_data.shape\n",
    "test_data.shape\n",
    "validate_data.shape"
   ]
  },
  {
   "cell_type": "code",
   "execution_count": 18,
   "metadata": {
    "execution": {
     "iopub.execute_input": "2022-03-30T08:53:43.173875Z",
     "iopub.status.busy": "2022-03-30T08:53:43.172468Z",
     "iopub.status.idle": "2022-03-30T08:53:43.184493Z",
     "shell.execute_reply": "2022-03-30T08:53:43.183679Z",
     "shell.execute_reply.started": "2022-03-30T08:53:43.173825Z"
    }
   },
   "outputs": [],
   "source": [
    "train_data.head()"
   ]
  },
  {
   "cell_type": "code",
   "execution_count": 24,
   "metadata": {
    "execution": {
     "iopub.execute_input": "2022-03-30T08:58:16.171147Z",
     "iopub.status.busy": "2022-03-30T08:58:16.170810Z",
     "iopub.status.idle": "2022-03-30T08:58:16.197479Z",
     "shell.execute_reply": "2022-03-30T08:58:16.196693Z",
     "shell.execute_reply.started": "2022-03-30T08:58:16.171115Z"
    }
   },
   "outputs": [],
   "source": [
    "train_data[\"length\"] = [len(x) for x in train_data[\"comment\"]]\n",
    "train_data.head()"
   ]
  },
  {
   "cell_type": "code",
   "execution_count": 27,
   "metadata": {
    "execution": {
     "iopub.execute_input": "2022-03-30T09:00:17.933688Z",
     "iopub.status.busy": "2022-03-30T09:00:17.932582Z",
     "iopub.status.idle": "2022-03-30T09:00:17.945806Z",
     "shell.execute_reply": "2022-03-30T09:00:17.944761Z",
     "shell.execute_reply.started": "2022-03-30T09:00:17.933643Z"
    }
   },
   "outputs": [],
   "source": [
    "train_data[train_data[\"emotion\"]==\"sadness\"][\"length\"].max()"
   ]
  },
  {
   "cell_type": "code",
   "execution_count": 29,
   "metadata": {
    "execution": {
     "iopub.execute_input": "2022-03-30T09:00:39.759763Z",
     "iopub.status.busy": "2022-03-30T09:00:39.759253Z",
     "iopub.status.idle": "2022-03-30T09:00:39.777748Z",
     "shell.execute_reply": "2022-03-30T09:00:39.776806Z",
     "shell.execute_reply.started": "2022-03-30T09:00:39.759727Z"
    }
   },
   "outputs": [],
   "source": [
    "train_data[train_data[\"emotion\"]==\"love\"]"
   ]
  },
  {
   "cell_type": "code",
   "execution_count": 33,
   "metadata": {
    "execution": {
     "iopub.execute_input": "2022-03-30T09:04:15.297528Z",
     "iopub.status.busy": "2022-03-30T09:04:15.297225Z",
     "iopub.status.idle": "2022-03-30T09:04:16.291997Z",
     "shell.execute_reply": "2022-03-30T09:04:16.291067Z",
     "shell.execute_reply.started": "2022-03-30T09:04:15.297488Z"
    }
   },
   "outputs": [],
   "source": [
    "all_data = {\"train data\": train_data , \"validation data\": validate_data,\"test data\":test_data}\n",
    "fig,ax = plt.subplots(1,3,figsize=(30,10))\n",
    "for i,df in enumerate(all_data.values()):\n",
    "    df2 = df.copy()\n",
    "    df2[\"length\"]=[len(x) for x in df2[\"comment\"]]\n",
    "    sns.kdeplot(data=df2,x=\"length\",hue=\"emotion\",ax=ax[i])\n",
    "plt.show()"
   ]
  },
  {
   "cell_type": "markdown",
   "metadata": {},
   "source": [
    "# function"
   ]
  },
  {
   "cell_type": "code",
   "execution_count": 42,
   "metadata": {
    "execution": {
     "iopub.execute_input": "2022-03-30T09:20:49.614005Z",
     "iopub.status.busy": "2022-03-30T09:20:49.613583Z",
     "iopub.status.idle": "2022-03-30T09:20:49.620857Z",
     "shell.execute_reply": "2022-03-30T09:20:49.619650Z",
     "shell.execute_reply.started": "2022-03-30T09:20:49.613957Z"
    }
   },
   "outputs": [],
   "source": [
    "def words_cloud(wordcloud,df):\n",
    "    plt.figure(figsize=(10,10))\n",
    "    plt.title(df+\" word cloud \",size=16)\n",
    "    plt.imshow(wordcloud)\n",
    "    plt.axis(\"off\")"
   ]
  },
  {
   "cell_type": "code",
   "execution_count": 43,
   "metadata": {
    "execution": {
     "iopub.execute_input": "2022-03-30T09:20:51.748020Z",
     "iopub.status.busy": "2022-03-30T09:20:51.747727Z",
     "iopub.status.idle": "2022-03-30T09:20:51.757279Z",
     "shell.execute_reply": "2022-03-30T09:20:51.755868Z",
     "shell.execute_reply.started": "2022-03-30T09:20:51.747990Z"
    }
   },
   "outputs": [],
   "source": [
    "emotions_list = train_data[\"emotion\"].unique()\n",
    "emotions_list"
   ]
  },
  {
   "cell_type": "code",
   "execution_count": 44,
   "metadata": {
    "execution": {
     "iopub.execute_input": "2022-03-30T09:20:53.396680Z",
     "iopub.status.busy": "2022-03-30T09:20:53.396381Z",
     "iopub.status.idle": "2022-03-30T09:21:02.713018Z",
     "shell.execute_reply": "2022-03-30T09:21:02.711773Z",
     "shell.execute_reply.started": "2022-03-30T09:20:53.396650Z"
    }
   },
   "outputs": [],
   "source": [
    "for emotion in emotions_list:\n",
    "    text = '  '.join([sentence for sentence in train_data.loc[train_data[\"emotion\"]==emotion,\"comment\"]])\n",
    "    wordcloud = WordCloud(width=600,height=600).generate(text)\n",
    "    \n",
    "    words_cloud(wordcloud,emotion)"
   ]
  },
  {
   "cell_type": "markdown",
   "metadata": {},
   "source": [
    "# onehot coding "
   ]
  },
  {
   "cell_type": "code",
   "execution_count": 46,
   "metadata": {
    "execution": {
     "iopub.execute_input": "2022-03-30T09:23:59.247533Z",
     "iopub.status.busy": "2022-03-30T09:23:59.247185Z",
     "iopub.status.idle": "2022-03-30T09:23:59.259430Z",
     "shell.execute_reply": "2022-03-30T09:23:59.258410Z",
     "shell.execute_reply.started": "2022-03-30T09:23:59.247494Z"
    }
   },
   "outputs": [],
   "source": [
    "lb =LabelEncoder()\n",
    "train_data[\"emotion\"] = lb.fit_transform(train_data[\"emotion\"])\n",
    "test_data[\"emotion\"] = lb.fit_transform(test_data[\"emotion\"])\n",
    "validate_data[\"emotion\"] = lb.fit_transform(validate_data[\"emotion\"])\n"
   ]
  },
  {
   "cell_type": "code",
   "execution_count": 47,
   "metadata": {
    "execution": {
     "iopub.execute_input": "2022-03-30T09:24:08.356514Z",
     "iopub.status.busy": "2022-03-30T09:24:08.355779Z",
     "iopub.status.idle": "2022-03-30T09:24:08.369114Z",
     "shell.execute_reply": "2022-03-30T09:24:08.368434Z",
     "shell.execute_reply.started": "2022-03-30T09:24:08.356477Z"
    }
   },
   "outputs": [],
   "source": [
    "train_data.head()"
   ]
  },
  {
   "cell_type": "code",
   "execution_count": 48,
   "metadata": {
    "execution": {
     "iopub.execute_input": "2022-03-30T09:25:57.401558Z",
     "iopub.status.busy": "2022-03-30T09:25:57.401207Z",
     "iopub.status.idle": "2022-03-30T09:25:57.548762Z",
     "shell.execute_reply": "2022-03-30T09:25:57.547883Z",
     "shell.execute_reply.started": "2022-03-30T09:25:57.401525Z"
    }
   },
   "outputs": [],
   "source": [
    "nltk.download(\"stopwords\")\n",
    "stopwords = set(nltk.corpus.stopwords.words(\"english\"))"
   ]
  },
  {
   "cell_type": "code",
   "execution_count": 62,
   "metadata": {
    "execution": {
     "iopub.execute_input": "2022-03-30T09:44:01.244392Z",
     "iopub.status.busy": "2022-03-30T09:44:01.244059Z",
     "iopub.status.idle": "2022-03-30T09:44:01.250196Z",
     "shell.execute_reply": "2022-03-30T09:44:01.249029Z",
     "shell.execute_reply.started": "2022-03-30T09:44:01.244355Z"
    }
   },
   "outputs": [],
   "source": [
    "max_len = train_data[\"length\"].max()\n",
    "max_len\n",
    "vocabSize=11000"
   ]
  },
  {
   "cell_type": "markdown",
   "metadata": {},
   "source": [
    "\n",
    "# text cleaning"
   ]
  },
  {
   "cell_type": "code",
   "execution_count": 164,
   "metadata": {
    "execution": {
     "iopub.execute_input": "2022-03-30T10:33:18.671789Z",
     "iopub.status.busy": "2022-03-30T10:33:18.670819Z",
     "iopub.status.idle": "2022-03-30T10:33:18.681712Z",
     "shell.execute_reply": "2022-03-30T10:33:18.680479Z",
     "shell.execute_reply.started": "2022-03-30T10:33:18.671727Z"
    }
   },
   "outputs": [],
   "source": [
    "from tensorflow.keras.preprocessing.text import one_hot\n",
    "def text_cleaning(df, column):\n",
    "    \"\"\"Removing unrelevent chars, Stemming and padding\"\"\"\n",
    "    stemmer = PorterStemmer()\n",
    "    corpus = []\n",
    "    \n",
    "    for text in df[column]:\n",
    "        text = re.sub(\"[^a-zA-Z]\", \" \", text)\n",
    "        text = text.lower()\n",
    "        text = text.split()\n",
    "        text = [stemmer.stem(word) for word in text if word not in stopwords]\n",
    "        text = \" \".join(text)\n",
    "        corpus.append(text)\n",
    "    one_hot_word = [one_hot(input_text=word, n=vocabSize) for word in corpus]\n",
    "    pad = pad_sequences(sequences=one_hot_word,maxlen=max_len,padding='pre')\n",
    "    print(pad.shape)\n",
    "    return pad"
   ]
  },
  {
   "cell_type": "code",
   "execution_count": 165,
   "metadata": {
    "execution": {
     "iopub.execute_input": "2022-03-30T10:33:20.309718Z",
     "iopub.status.busy": "2022-03-30T10:33:20.309337Z",
     "iopub.status.idle": "2022-03-30T10:33:26.962705Z",
     "shell.execute_reply": "2022-03-30T10:33:26.961317Z",
     "shell.execute_reply.started": "2022-03-30T10:33:20.309668Z"
    }
   },
   "outputs": [],
   "source": [
    "x_train = text_cleaning(train_data,\"comment\")\n",
    "x_test = text_cleaning(test_data,\"comment\")\n",
    "x_val = text_cleaning(validate_data,\"comment\")"
   ]
  },
  {
   "cell_type": "code",
   "execution_count": 166,
   "metadata": {
    "execution": {
     "iopub.execute_input": "2022-03-30T10:33:28.241040Z",
     "iopub.status.busy": "2022-03-30T10:33:28.240725Z",
     "iopub.status.idle": "2022-03-30T10:33:28.246564Z",
     "shell.execute_reply": "2022-03-30T10:33:28.245402Z",
     "shell.execute_reply.started": "2022-03-30T10:33:28.241009Z"
    }
   },
   "outputs": [],
   "source": [
    "y_train = train_data[\"emotion\"]\n",
    "y_test = test_data[\"emotion\"]\n",
    "y_val = validate_data[\"emotion\"]"
   ]
  },
  {
   "cell_type": "code",
   "execution_count": 167,
   "metadata": {
    "execution": {
     "iopub.execute_input": "2022-03-30T10:33:30.363374Z",
     "iopub.status.busy": "2022-03-30T10:33:30.363036Z",
     "iopub.status.idle": "2022-03-30T10:33:30.370137Z",
     "shell.execute_reply": "2022-03-30T10:33:30.368874Z",
     "shell.execute_reply.started": "2022-03-30T10:33:30.363343Z"
    }
   },
   "outputs": [],
   "source": [
    "\n",
    "y_train = to_categorical(y_train)\n",
    "y_test = to_categorical(y_test)\n",
    "y_val = to_categorical(y_val)"
   ]
  },
  {
   "cell_type": "markdown",
   "metadata": {},
   "source": [
    "# Sequential model"
   ]
  },
  {
   "cell_type": "code",
   "execution_count": 168,
   "metadata": {
    "execution": {
     "iopub.execute_input": "2022-03-30T10:33:32.996019Z",
     "iopub.status.busy": "2022-03-30T10:33:32.995656Z",
     "iopub.status.idle": "2022-03-30T10:33:33.320833Z",
     "shell.execute_reply": "2022-03-30T10:33:33.319484Z",
     "shell.execute_reply.started": "2022-03-30T10:33:32.995986Z"
    }
   },
   "outputs": [],
   "source": [
    "model = Sequential()\n",
    "model.add(Embedding(input_dim=vocabSize,output_dim=150,input_length=300))\n",
    "model.add(Dropout(0.2))\n",
    "model.add(LSTM(128))\n",
    "model.add(Dropout(0.2))\n",
    "model.add(Dense(64,activation='sigmoid'))\n",
    "model.add(Dropout(0.2))\n",
    "model.add(Dense(6,activation='softmax'))"
   ]
  },
  {
   "cell_type": "code",
   "execution_count": 169,
   "metadata": {
    "execution": {
     "iopub.execute_input": "2022-03-30T10:33:35.765121Z",
     "iopub.status.busy": "2022-03-30T10:33:35.764768Z",
     "iopub.status.idle": "2022-03-30T10:33:35.782310Z",
     "shell.execute_reply": "2022-03-30T10:33:35.781444Z",
     "shell.execute_reply.started": "2022-03-30T10:33:35.765084Z"
    }
   },
   "outputs": [],
   "source": [
    "model.compile(optimizer='adam',loss='categorical_crossentropy',metrics=['accuracy'])\n",
    "model.summary()"
   ]
  },
  {
   "cell_type": "code",
   "execution_count": 170,
   "metadata": {
    "execution": {
     "iopub.execute_input": "2022-03-30T10:33:39.006072Z",
     "iopub.status.busy": "2022-03-30T10:33:39.005435Z",
     "iopub.status.idle": "2022-03-30T10:33:39.011133Z",
     "shell.execute_reply": "2022-03-30T10:33:39.010277Z",
     "shell.execute_reply.started": "2022-03-30T10:33:39.006032Z"
    }
   },
   "outputs": [],
   "source": [
    "callback = EarlyStopping(monitor=\"val_loss\", patience=3, restore_best_weights=True)"
   ]
  },
  {
   "cell_type": "code",
   "execution_count": 171,
   "metadata": {
    "execution": {
     "iopub.execute_input": "2022-03-30T10:33:41.137459Z",
     "iopub.status.busy": "2022-03-30T10:33:41.137124Z",
     "iopub.status.idle": "2022-03-30T10:33:41.144172Z",
     "shell.execute_reply": "2022-03-30T10:33:41.143567Z",
     "shell.execute_reply.started": "2022-03-30T10:33:41.137417Z"
    }
   },
   "outputs": [],
   "source": [
    "x_train.shape"
   ]
  },
  {
   "cell_type": "code",
   "execution_count": 172,
   "metadata": {
    "execution": {
     "iopub.execute_input": "2022-03-30T10:33:44.301114Z",
     "iopub.status.busy": "2022-03-30T10:33:44.300790Z",
     "iopub.status.idle": "2022-03-30T10:33:44.308531Z",
     "shell.execute_reply": "2022-03-30T10:33:44.307620Z",
     "shell.execute_reply.started": "2022-03-30T10:33:44.301083Z"
    }
   },
   "outputs": [],
   "source": [
    "y_train.shape\n"
   ]
  },
  {
   "cell_type": "markdown",
   "metadata": {},
   "source": [
    "# fit data in model"
   ]
  },
  {
   "cell_type": "code",
   "execution_count": 173,
   "metadata": {
    "execution": {
     "iopub.execute_input": "2022-03-30T10:33:48.380689Z",
     "iopub.status.busy": "2022-03-30T10:33:48.380322Z",
     "iopub.status.idle": "2022-03-30T10:52:14.929526Z",
     "shell.execute_reply": "2022-03-30T10:52:14.928766Z",
     "shell.execute_reply.started": "2022-03-30T10:33:48.380649Z"
    }
   },
   "outputs": [],
   "source": [
    "hist = model.fit(x_train,y_train,epochs=10,batch_size=64,validation_data=(x_val,y_val),\n",
    "                verbose=1, callbacks=[callback])"
   ]
  },
  {
   "cell_type": "code",
   "execution_count": 174,
   "metadata": {
    "execution": {
     "iopub.execute_input": "2022-03-30T10:52:22.117163Z",
     "iopub.status.busy": "2022-03-30T10:52:22.115817Z",
     "iopub.status.idle": "2022-03-30T10:52:29.107750Z",
     "shell.execute_reply": "2022-03-30T10:52:29.105995Z",
     "shell.execute_reply.started": "2022-03-30T10:52:22.117107Z"
    }
   },
   "outputs": [],
   "source": [
    "model.evaluate(x_val,y_val,verbose=1)"
   ]
  },
  {
   "cell_type": "markdown",
   "metadata": {},
   "source": [
    "# accuracy"
   ]
  },
  {
   "cell_type": "code",
   "execution_count": 175,
   "metadata": {
    "execution": {
     "iopub.execute_input": "2022-03-30T10:57:07.776871Z",
     "iopub.status.busy": "2022-03-30T10:57:07.776494Z",
     "iopub.status.idle": "2022-03-30T10:57:08.208367Z",
     "shell.execute_reply": "2022-03-30T10:57:08.207167Z",
     "shell.execute_reply.started": "2022-03-30T10:57:07.776834Z"
    }
   },
   "outputs": [],
   "source": [
    "accuracy = hist.history[\"accuracy\"]\n",
    "val_acc = hist.history[\"val_accuracy\"]\n",
    "loss = hist.history[\"loss\"]\n",
    "val_loss = hist.history[\"val_loss\"]\n",
    "epochs = range(len(accuracy))\n",
    "\n",
    "plt.plot(epochs,accuracy,\"b\",label=\"training accuracy\")\n",
    "plt.plot(epochs,val_acc,'r',label=\"validation accuracy\")\n",
    "plt.title(\"training and validation accuracy\")\n",
    "plt.legend()\n",
    "plt.figure()\n",
    "\n",
    "plt.plot(epochs,accuracy,\"b\",label=\"training loss\")\n",
    "plt.plot(epochs,val_acc,'r',label=\"validation loss\")\n",
    "plt.title(\"training and validation loss\")\n",
    "plt.legend()\n",
    "\n",
    "plt.show()"
   ]
  },
  {
   "cell_type": "markdown",
   "metadata": {},
   "source": [
    "# sentence cleaning"
   ]
  },
  {
   "cell_type": "code",
   "execution_count": 177,
   "metadata": {
    "execution": {
     "iopub.execute_input": "2022-03-30T11:01:50.726263Z",
     "iopub.status.busy": "2022-03-30T11:01:50.725804Z",
     "iopub.status.idle": "2022-03-30T11:01:50.732508Z",
     "shell.execute_reply": "2022-03-30T11:01:50.731855Z",
     "shell.execute_reply.started": "2022-03-30T11:01:50.726212Z"
    }
   },
   "outputs": [],
   "source": [
    "def sentence_cleaning(sentence):\n",
    "    stemmer = PorterStemmer()\n",
    "    corpus = []\n",
    "    text = re.sub(\"[^a-zA-Z]\",\" \",sentence)\n",
    "    text = text.lower()\n",
    "    text = text.split()\n",
    "    \n",
    "    text = [stemmer.stem(word) for word in text if word not in stopwords]\n",
    "    text = \" \".join(text)\n",
    "    corpus.append(text)\n",
    "    one_hot_word = [one_hot(input_text=word, n=vocabSize) for word in corpus]\n",
    "    pad = pad_sequences(sequences=one_hot_word,maxlen=max_len,padding=\"pre\")\n",
    "    \n",
    "    return pad"
   ]
  },
  {
   "cell_type": "markdown",
   "metadata": {},
   "source": [
    "# sentence input"
   ]
  },
  {
   "cell_type": "code",
   "execution_count": 195,
   "metadata": {
    "execution": {
     "iopub.execute_input": "2022-03-30T11:08:56.383256Z",
     "iopub.status.busy": "2022-03-30T11:08:56.382656Z",
     "iopub.status.idle": "2022-03-30T11:08:56.387945Z",
     "shell.execute_reply": "2022-03-30T11:08:56.387293Z",
     "shell.execute_reply.started": "2022-03-30T11:08:56.383207Z"
    }
   },
   "outputs": [],
   "source": [
    "sentences = [\n",
    "            \"Don’t you dare tell lies to me?\",\"For God’s sake, leave me alone!\",\n",
    "    \"For f*ck’s sake!\"\n",
    "            ]"
   ]
  },
  {
   "cell_type": "code",
   "execution_count": 196,
   "metadata": {
    "execution": {
     "iopub.execute_input": "2022-03-30T11:08:57.926295Z",
     "iopub.status.busy": "2022-03-30T11:08:57.925580Z",
     "iopub.status.idle": "2022-03-30T11:08:57.933209Z",
     "shell.execute_reply": "2022-03-30T11:08:57.932042Z",
     "shell.execute_reply.started": "2022-03-30T11:08:57.926240Z"
    }
   },
   "outputs": [],
   "source": [
    "for sentence in sentences:\n",
    "    print(sentence)"
   ]
  },
  {
   "cell_type": "code",
   "execution_count": 197,
   "metadata": {
    "execution": {
     "iopub.execute_input": "2022-03-30T11:09:00.241039Z",
     "iopub.status.busy": "2022-03-30T11:09:00.240539Z",
     "iopub.status.idle": "2022-03-30T11:09:01.000255Z",
     "shell.execute_reply": "2022-03-30T11:09:00.998585Z",
     "shell.execute_reply.started": "2022-03-30T11:09:00.240990Z"
    }
   },
   "outputs": [],
   "source": [
    "\n",
    "for sentence in sentences:\n",
    "    print(sentence)\n",
    "    sentence = sentence_cleaning(sentence)\n",
    "    result = lb.inverse_transform(np.argmax(model.predict(sentence), axis=-1))[0]\n",
    "    proba =  np.max(model.predict(sentence))\n",
    "    print(f\"{result} : {proba}\\n\\n\")"
   ]
  },
  {
   "cell_type": "markdown",
   "metadata": {},
   "source": [
    "# predict emotions"
   ]
  },
  {
   "cell_type": "code",
   "execution_count": 193,
   "metadata": {
    "execution": {
     "iopub.execute_input": "2022-03-30T11:08:21.220641Z",
     "iopub.status.busy": "2022-03-30T11:08:21.219488Z",
     "iopub.status.idle": "2022-03-30T11:08:21.342202Z",
     "shell.execute_reply": "2022-03-30T11:08:21.341587Z",
     "shell.execute_reply.started": "2022-03-30T11:08:21.220565Z"
    }
   },
   "outputs": [],
   "source": [
    "model.predict(sentence)"
   ]
  }
 ],
 "metadata": {
  "kernelspec": {
   "display_name": "Python 3 (ipykernel)",
   "language": "python",
   "name": "python3"
  },
  "language_info": {
   "codemirror_mode": {
    "name": "ipython",
    "version": 3
   },
   "file_extension": ".py",
   "mimetype": "text/x-python",
   "name": "python",
   "nbconvert_exporter": "python",
   "pygments_lexer": "ipython3",
   "version": "3.9.7"
  }
 },
 "nbformat": 4,
 "nbformat_minor": 4
}
